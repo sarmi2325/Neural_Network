{
  "nbformat": 4,
  "nbformat_minor": 0,
  "metadata": {
    "colab": {
      "provenance": [],
      "authorship_tag": "ABX9TyOOO7rbQu6oTiCOCYOi5I20",
      "include_colab_link": true
    },
    "kernelspec": {
      "name": "python3",
      "display_name": "Python 3"
    },
    "language_info": {
      "name": "python"
    }
  },
  "cells": [
    {
      "cell_type": "markdown",
      "metadata": {
        "id": "view-in-github",
        "colab_type": "text"
      },
      "source": [
        "<a href=\"https://colab.research.google.com/github/sarmi2325/Neural_Network/blob/main/07_RNN_from_scratch.ipynb\" target=\"_parent\"><img src=\"https://colab.research.google.com/assets/colab-badge.svg\" alt=\"Open In Colab\"/></a>"
      ]
    },
    {
      "cell_type": "code",
      "source": [
        "import numpy as np\n",
        "#creating input and output to be\n",
        "input=[0,1,1,0,2,3]\n",
        "\n",
        "X=np.array(input[:-1]).reshape(-1,1)\n",
        "y=np.array(input[1:]).reshape(-1,1)\n"
      ],
      "metadata": {
        "id": "2mG_raqFQBC8"
      },
      "execution_count": 69,
      "outputs": []
    },
    {
      "cell_type": "code",
      "source": [
        "#initialize parameters\n",
        "input_size=1\n",
        "hidden_size=4\n",
        "output_size=1\n",
        "voc_length=len(X)\n",
        "\n",
        "#initializing the weights and bias\n",
        "wx = np.random.randn(input_size,hidden_size)*0.01\n",
        "wh = np.random.randn(hidden_size,hidden_size)*0.01\n",
        "wy = np.random.randn(hidden_size,output_size)*0.01\n",
        "\n",
        "bh = np.zeros((1,hidden_size))\n",
        "by = np.zeros((1,output_size))\n"
      ],
      "metadata": {
        "id": "TybtA6Ia5OLk"
      },
      "execution_count": 70,
      "outputs": []
    },
    {
      "cell_type": "code",
      "source": [
        "#defining function for forward pass\n",
        "def forward(X,wx,wh,wy,bh,by):\n",
        "  prev_h = np.zeros((1,wh.shape[0]))  #initialize the previous state\n",
        "  hs=[]  #to store the hidden states at each time step\n",
        "  ys=[]  #to store the predictions\n",
        "\n",
        "  for t in range(len(X)):\n",
        "    x_t = X[t].reshape(1,-1)\n",
        "\n",
        "    h_t=np.tanh(x_t @ wx + prev_h @ wh + bh)\n",
        "    y_t=h_t @ wy +by\n",
        "\n",
        "    hs.append(h_t)\n",
        "    ys.append(y_t)\n",
        "\n",
        "    prev_h=h_t\n",
        "\n",
        "  return  hs,ys"
      ],
      "metadata": {
        "id": "e_g242uZ6yJs"
      },
      "execution_count": 71,
      "outputs": []
    },
    {
      "cell_type": "code",
      "source": [
        "# define loss function\n",
        "def loss(ys,y):\n",
        "  loss = 0\n",
        "  for y_pred,y_true in zip(ys,y):\n",
        "    loss+= np.mean((y_pred-y_true.reshape(-1,1))**2)\n",
        "  return loss/len(y)"
      ],
      "metadata": {
        "id": "jdyiXcM2_lqN"
      },
      "execution_count": 72,
      "outputs": []
    },
    {
      "cell_type": "code",
      "source": [
        "#initialize hyperparameter\n",
        "lr=0.01\n",
        "epoch=13000\n",
        "\n",
        "for e in range(epoch):\n",
        "  hs,ys = forward(X,wx,wh,wy,bh,by)\n",
        "  compute_loss = loss(ys,y)\n",
        "\n",
        "  #initialize gradient weights and bias\n",
        "  dwx=np.zeros_like(wx)\n",
        "  dwh=np.zeros_like(wh)\n",
        "  dwy=np.zeros_like(wy)\n",
        "  dbh=np.zeros_like(bh)\n",
        "  dby=np.zeros_like(by)\n",
        "\n",
        "  dh_next=np.zeros((1,hidden_size))\n",
        "\n",
        "  #backpropogation\n",
        "  for t in reversed(range(len(X))):\n",
        "  # loss w.r.t. to output\n",
        "    dy = ys[t]-y[t].reshape(1,-1)\n",
        "\n",
        "    dwy+= hs[t].T @ dy\n",
        "    dby+=dy\n",
        "\n",
        "    dh = dy @ wy.T +dh_next\n",
        "\n",
        "    dh_raw = (1-hs[t]**2) * dh\n",
        "\n",
        "    x_t = X[t].reshape(1,-1)\n",
        "    h_prev = hs[t-1] if t>0 else np.zeros_like(hs[0])\n",
        "\n",
        "    dwx += x_t @ dh_raw\n",
        "    dwh += h_prev.T @ dh_raw\n",
        "    dbh += dh_raw\n",
        "\n",
        "    dh_next = dh_raw\n",
        "\n",
        "  # updating weights and bias\n",
        "  wx -= lr * dwx\n",
        "  wh -= lr * dwh\n",
        "  wy -= lr * dwy\n",
        "  bh -= lr * dbh\n",
        "  by -= lr * dby\n",
        "\n",
        "\n",
        "  if e % 1000 == 0:\n",
        "        print(f\"Epoch {e}, Loss: {compute_loss:.4f}\")\n",
        "\n",
        "\n",
        "\n"
      ],
      "metadata": {
        "id": "VmUCDmNlCGHx",
        "colab": {
          "base_uri": "https://localhost:8080/"
        },
        "outputId": "e207c6d9-097a-46e0-84d9-b32194a614a6"
      },
      "execution_count": 73,
      "outputs": [
        {
          "output_type": "stream",
          "name": "stdout",
          "text": [
            "Epoch 0, Loss: 3.0010\n",
            "Epoch 1000, Loss: 0.3078\n",
            "Epoch 2000, Loss: 0.2938\n",
            "Epoch 3000, Loss: 0.6238\n",
            "Epoch 4000, Loss: 0.7701\n",
            "Epoch 5000, Loss: 0.2469\n",
            "Epoch 6000, Loss: 0.2615\n",
            "Epoch 7000, Loss: 0.1862\n",
            "Epoch 8000, Loss: 0.1005\n",
            "Epoch 9000, Loss: 0.0933\n",
            "Epoch 10000, Loss: 0.0711\n",
            "Epoch 11000, Loss: 0.0460\n",
            "Epoch 12000, Loss: 0.0182\n"
          ]
        }
      ]
    },
    {
      "cell_type": "code",
      "source": [
        "import matplotlib.pyplot as plt\n",
        "\n",
        "y_preds = [y[0][0] for y in ys]  # flatten predictions\n",
        "y_true = [val[0] for val in y]  # flatten ground truth\n",
        "\n",
        "plt.plot(y_true, label='True')\n",
        "plt.plot(y_preds, label='Predicted')\n",
        "plt.legend()\n",
        "plt.title(\"RNN Predictions vs True Values\")\n",
        "plt.show()\n"
      ],
      "metadata": {
        "colab": {
          "base_uri": "https://localhost:8080/",
          "height": 452
        },
        "id": "7tsjdOTfAYG2",
        "outputId": "7680cbef-0f8e-4036-ae54-bb8e6c4473dc"
      },
      "execution_count": 74,
      "outputs": [
        {
          "output_type": "display_data",
          "data": {
            "text/plain": [
              "<Figure size 640x480 with 1 Axes>"
            ],
            "image/png": "[encoded data removed]"
          },
          "metadata": {}
        }
      ]
    }
  ]
}